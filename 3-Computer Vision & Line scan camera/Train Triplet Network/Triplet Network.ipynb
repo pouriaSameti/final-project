{
 "cells": [
  {
   "cell_type": "markdown",
   "source": [
    "# Libraries"
   ],
   "metadata": {
    "collapsed": false
   }
  },
  {
   "cell_type": "code",
   "execution_count": 37,
   "metadata": {
    "collapsed": true,
    "ExecuteTime": {
     "end_time": "2025-07-20T21:29:38.163147900Z",
     "start_time": "2025-07-20T21:29:38.140320200Z"
    }
   },
   "outputs": [],
   "source": [
    "import pandas as pd\n",
    "import numpy as np\n",
    "import matplotlib.pyplot as plt\n",
    "import os\n",
    "\n",
    "import torch\n",
    "import torch.nn as nn\n",
    "import torch.nn.functional as F\n",
    "from torch.utils.data import Dataset, DataLoader\n",
    "\n",
    "from PIL import Image\n",
    "import torchvision.transforms as T"
   ]
  },
  {
   "cell_type": "markdown",
   "source": [
    "# Network Architecture"
   ],
   "metadata": {
    "collapsed": false
   }
  },
  {
   "cell_type": "code",
   "execution_count": 38,
   "outputs": [],
   "source": [
    "class EmbeddingNet(nn.Module):\n",
    "    def __init__(self):\n",
    "        super(EmbeddingNet, self).__init__()\n",
    "        self.convnet = nn.Sequential(\n",
    "            nn.Conv2d(3, 32, kernel_size=5, stride=1, padding=2),\n",
    "            nn.ReLU(),\n",
    "            nn.MaxPool2d(2),  # 320x320\n",
    "\n",
    "            nn.Conv2d(32, 64, kernel_size=5, stride=1, padding=2),\n",
    "            nn.ReLU(),\n",
    "            nn.MaxPool2d(2),  # 160x160\n",
    "\n",
    "            nn.Conv2d(64, 128, kernel_size=3, stride=1, padding=1),\n",
    "            nn.ReLU(),\n",
    "            nn.MaxPool2d(2),  # 80x80\n",
    "\n",
    "            nn.Conv2d(128, 256, kernel_size=3, stride=1, padding=1),\n",
    "            nn.ReLU(),\n",
    "            nn.MaxPool2d(2),  # 40x40\n",
    "\n",
    "            nn.Conv2d(256, 512, kernel_size=3, stride=1, padding=1),\n",
    "            nn.ReLU(),\n",
    "            nn.AdaptiveAvgPool2d((1, 1))\n",
    "        )\n",
    "        self.fc = nn.Linear(512, 128)\n",
    "\n",
    "    def forward(self, x):\n",
    "        x = self.convnet(x)\n",
    "        x = x.view(x.size(0), -1)\n",
    "        x = self.fc(x)  # batch_size, 128)\n",
    "        return x"
   ],
   "metadata": {
    "collapsed": false,
    "ExecuteTime": {
     "end_time": "2025-07-20T21:29:38.164149200Z",
     "start_time": "2025-07-20T21:29:38.146724800Z"
    }
   }
  },
  {
   "cell_type": "code",
   "execution_count": 39,
   "outputs": [],
   "source": [
    "class TripletNet(nn.Module):\n",
    "    def __init__(self, embedding_net):\n",
    "        super(TripletNet, self).__init__()\n",
    "        self.embedding_net = embedding_net\n",
    "\n",
    "    def forward(self, anchor, positive, negative):\n",
    "        anchor_out = self.embedding_net(anchor)\n",
    "        positive_out = self.embedding_net(positive)\n",
    "        negative_out = self.embedding_net(negative)\n",
    "        return anchor_out, positive_out, negative_out"
   ],
   "metadata": {
    "collapsed": false,
    "ExecuteTime": {
     "end_time": "2025-07-20T21:29:38.164149200Z",
     "start_time": "2025-07-20T21:29:38.152787300Z"
    }
   }
  },
  {
   "cell_type": "code",
   "execution_count": 40,
   "outputs": [],
   "source": [
    "class TripletLoss(nn.Module):\n",
    "    def __init__(self, margin=1.0):\n",
    "        super(TripletLoss, self).__init__()\n",
    "        self.margin = margin\n",
    "\n",
    "    def forward(self, anchor, positive, negative):\n",
    "        d_positive = F.pairwise_distance(anchor, positive, p=2)\n",
    "        d_negative = F.pairwise_distance(anchor, negative, p=2)\n",
    "        loss = F.relu(d_positive - d_negative + self.margin)\n",
    "        return loss.mean()"
   ],
   "metadata": {
    "collapsed": false,
    "ExecuteTime": {
     "end_time": "2025-07-20T21:29:38.188630500Z",
     "start_time": "2025-07-20T21:29:38.157142900Z"
    }
   }
  },
  {
   "cell_type": "markdown",
   "source": [
    "# Dataset Design"
   ],
   "metadata": {
    "collapsed": false
   }
  },
  {
   "cell_type": "code",
   "execution_count": 41,
   "outputs": [],
   "source": [
    "class ImageTripletDataset(Dataset):\n",
    "    def __init__(self, root_dir, transform=None):\n",
    "        self.anchor_dir = os.path.join(root_dir, \"anchor\")\n",
    "        self.positive_dir = os.path.join(root_dir, \"positive\")\n",
    "        self.negative_dir = os.path.join(root_dir, \"negative\")\n",
    "\n",
    "        self.filenames = sorted(os.listdir(self.anchor_dir))\n",
    "        self.transform = transform\n",
    "\n",
    "    def __len__(self):\n",
    "        return len(self.filenames)\n",
    "\n",
    "    def __getitem__(self, idx):\n",
    "        anchor_path = os.path.join(self.anchor_dir, self.filenames[idx])\n",
    "        positive_path = os.path.join(self.positive_dir, self.filenames[idx])\n",
    "        negative_path = os.path.join(self.negative_dir, self.filenames[idx])\n",
    "\n",
    "        anchor = Image.open(anchor_path).convert(\"RGB\")\n",
    "        positive = Image.open(positive_path).convert(\"RGB\")\n",
    "        negative = Image.open(negative_path).convert(\"RGB\")\n",
    "\n",
    "        if self.transform:\n",
    "            anchor = self.transform(anchor)\n",
    "            positive = self.transform(positive)\n",
    "            negative = self.transform(negative)\n",
    "\n",
    "        return anchor, positive, negative"
   ],
   "metadata": {
    "collapsed": false,
    "ExecuteTime": {
     "end_time": "2025-07-20T21:29:38.189624600Z",
     "start_time": "2025-07-20T21:29:38.163147900Z"
    }
   }
  },
  {
   "cell_type": "code",
   "execution_count": 42,
   "outputs": [],
   "source": [
    "transform = T.Compose([\n",
    "    T.Resize((640, 640)),\n",
    "    T.ToTensor(),\n",
    "])\n",
    "\n",
    "dataset = ImageTripletDataset(root_dir=\"triplet_data\", transform=transform)\n",
    "loader = DataLoader(dataset, batch_size=4, shuffle=True)"
   ],
   "metadata": {
    "collapsed": false,
    "ExecuteTime": {
     "end_time": "2025-07-20T21:29:38.190624400Z",
     "start_time": "2025-07-20T21:29:38.167452100Z"
    }
   }
  },
  {
   "cell_type": "markdown",
   "source": [
    "# Training Loop"
   ],
   "metadata": {
    "collapsed": false
   }
  },
  {
   "cell_type": "code",
   "execution_count": 43,
   "outputs": [],
   "source": [
    "device = torch.device(\"cuda\" if torch.cuda.is_available() else \"cpu\")\n",
    "\n",
    "embedding_net = EmbeddingNet()\n",
    "model = TripletNet(embedding_net).to(device)\n",
    "\n",
    "triplet_loss = nn.TripletMarginLoss(margin=1.0, p=2)\n",
    "optimizer = torch.optim.Adam(model.parameters(), lr=1e-4)"
   ],
   "metadata": {
    "collapsed": false,
    "ExecuteTime": {
     "end_time": "2025-07-20T21:29:38.200092400Z",
     "start_time": "2025-07-20T21:29:38.172622900Z"
    }
   }
  },
  {
   "cell_type": "code",
   "execution_count": 44,
   "outputs": [
    {
     "name": "stdout",
     "output_type": "stream",
     "text": [
      "Summary for EmbeddingNet:\n",
      "----------------------------------------------------------------\n",
      "        Layer (type)               Output Shape         Param #\n",
      "================================================================\n",
      "            Conv2d-1         [-1, 32, 640, 640]           2,432\n",
      "              ReLU-2         [-1, 32, 640, 640]               0\n",
      "         MaxPool2d-3         [-1, 32, 320, 320]               0\n",
      "            Conv2d-4         [-1, 64, 320, 320]          51,264\n",
      "              ReLU-5         [-1, 64, 320, 320]               0\n",
      "         MaxPool2d-6         [-1, 64, 160, 160]               0\n",
      "            Conv2d-7        [-1, 128, 160, 160]          73,856\n",
      "              ReLU-8        [-1, 128, 160, 160]               0\n",
      "         MaxPool2d-9          [-1, 128, 80, 80]               0\n",
      "           Conv2d-10          [-1, 256, 80, 80]         295,168\n",
      "             ReLU-11          [-1, 256, 80, 80]               0\n",
      "        MaxPool2d-12          [-1, 256, 40, 40]               0\n",
      "           Conv2d-13          [-1, 512, 40, 40]       1,180,160\n",
      "             ReLU-14          [-1, 512, 40, 40]               0\n",
      "AdaptiveAvgPool2d-15            [-1, 512, 1, 1]               0\n",
      "           Linear-16                  [-1, 128]          65,664\n",
      "================================================================\n",
      "Total params: 1,668,544\n",
      "Trainable params: 1,668,544\n",
      "Non-trainable params: 0\n",
      "----------------------------------------------------------------\n",
      "Input size (MB): 4.69\n",
      "Forward/backward pass size (MB): 434.38\n",
      "Params size (MB): 6.36\n",
      "Estimated Total Size (MB): 445.43\n",
      "----------------------------------------------------------------\n"
     ]
    }
   ],
   "source": [
    "from torchsummary import summary\n",
    "\n",
    "print(\"Summary for EmbeddingNet:\")\n",
    "embedding_net_instance = EmbeddingNet().to(device)\n",
    "summary(embedding_net_instance, (3, 640, 640), device=str(device))"
   ],
   "metadata": {
    "collapsed": false,
    "ExecuteTime": {
     "end_time": "2025-07-20T21:29:38.232593500Z",
     "start_time": "2025-07-20T21:29:38.196097200Z"
    }
   }
  },
  {
   "cell_type": "code",
   "execution_count": 45,
   "outputs": [
    {
     "name": "stdout",
     "output_type": "stream",
     "text": [
      "Epoch [1/128] - Loss: 0.9846\n",
      "Epoch [2/128] - Loss: 0.9392\n",
      "Epoch [3/128] - Loss: 0.7113\n",
      "Epoch [4/128] - Loss: 0.6478\n",
      "Epoch [5/128] - Loss: 0.9072\n",
      "Epoch [6/128] - Loss: 0.5996\n",
      "Epoch [7/128] - Loss: 0.6113\n",
      "Epoch [8/128] - Loss: 0.5820\n",
      "Epoch [9/128] - Loss: 0.4865\n",
      "Epoch [10/128] - Loss: 0.4608\n",
      "Epoch [11/128] - Loss: 0.4773\n",
      "Epoch [12/128] - Loss: 0.4803\n",
      "Epoch [13/128] - Loss: 0.3847\n",
      "Epoch [14/128] - Loss: 0.3868\n",
      "Epoch [15/128] - Loss: 0.4011\n",
      "Epoch [16/128] - Loss: 0.3570\n",
      "Epoch [17/128] - Loss: 0.4055\n",
      "Epoch [18/128] - Loss: 0.3189\n",
      "Epoch [19/128] - Loss: 0.3494\n",
      "Epoch [20/128] - Loss: 0.2448\n",
      "Epoch [21/128] - Loss: 0.2410\n",
      "Epoch [22/128] - Loss: 0.2624\n",
      "Epoch [23/128] - Loss: 0.2285\n",
      "Epoch [24/128] - Loss: 0.3231\n",
      "Epoch [25/128] - Loss: 0.2970\n",
      "Epoch [26/128] - Loss: 0.2350\n",
      "Epoch [27/128] - Loss: 0.2643\n",
      "Epoch [28/128] - Loss: 0.2173\n",
      "Epoch [29/128] - Loss: 0.5193\n",
      "Epoch [30/128] - Loss: 0.2759\n",
      "Epoch [31/128] - Loss: 0.3954\n",
      "Epoch [32/128] - Loss: 0.2696\n",
      "Epoch [33/128] - Loss: 0.2751\n",
      "Epoch [34/128] - Loss: 0.2797\n",
      "Epoch [35/128] - Loss: 0.2089\n",
      "Epoch [36/128] - Loss: 0.1758\n",
      "Epoch [37/128] - Loss: 0.1615\n",
      "Epoch [38/128] - Loss: 0.1484\n",
      "Epoch [39/128] - Loss: 0.2116\n",
      "Epoch [40/128] - Loss: 0.2023\n",
      "Epoch [41/128] - Loss: 0.1997\n",
      "Epoch [42/128] - Loss: 0.2696\n",
      "Epoch [43/128] - Loss: 0.1318\n",
      "Epoch [44/128] - Loss: 0.2349\n",
      "Epoch [45/128] - Loss: 0.1968\n",
      "Epoch [46/128] - Loss: 0.1016\n",
      "Epoch [47/128] - Loss: 0.0628\n",
      "Epoch [48/128] - Loss: 0.0575\n",
      "Epoch [49/128] - Loss: 0.0463\n",
      "Epoch [50/128] - Loss: 0.0463\n",
      "Epoch [51/128] - Loss: 0.0285\n",
      "Epoch [52/128] - Loss: 0.0250\n",
      "Epoch [53/128] - Loss: 0.0200\n",
      "Epoch [54/128] - Loss: 0.0176\n",
      "Epoch [55/128] - Loss: 0.0155\n",
      "Epoch [56/128] - Loss: 0.0161\n",
      "Epoch [57/128] - Loss: 0.0533\n",
      "Epoch [58/128] - Loss: 0.0094\n",
      "Epoch [59/128] - Loss: 0.0217\n",
      "Epoch [60/128] - Loss: 0.0249\n",
      "Epoch [61/128] - Loss: 0.0109\n",
      "Epoch [62/128] - Loss: 0.0062\n",
      "Epoch [63/128] - Loss: 0.0053\n",
      "Epoch [64/128] - Loss: 0.0029\n",
      "Epoch [65/128] - Loss: 0.0613\n",
      "Epoch [66/128] - Loss: 0.2061\n",
      "Epoch [67/128] - Loss: 0.0143\n",
      "Epoch [68/128] - Loss: 0.1843\n",
      "Epoch [69/128] - Loss: 0.0797\n",
      "Epoch [70/128] - Loss: 0.0164\n",
      "Epoch [71/128] - Loss: 0.0124\n",
      "Epoch [72/128] - Loss: 0.0046\n",
      "Epoch [73/128] - Loss: 0.0000\n",
      "Epoch [74/128] - Loss: 0.0000\n",
      "Epoch [75/128] - Loss: 0.0000\n",
      "Epoch [76/128] - Loss: 0.0000\n",
      "Epoch [77/128] - Loss: 0.0000\n",
      "Epoch [78/128] - Loss: 0.0000\n",
      "Epoch [79/128] - Loss: 0.0000\n",
      "Epoch [80/128] - Loss: 0.0000\n",
      "Epoch [81/128] - Loss: 0.0000\n",
      "Epoch [82/128] - Loss: 0.0000\n",
      "Epoch [83/128] - Loss: 0.0000\n",
      "Epoch [84/128] - Loss: 0.0000\n",
      "Epoch [85/128] - Loss: 0.0000\n",
      "Epoch [86/128] - Loss: 0.0000\n",
      "Epoch [87/128] - Loss: 0.0000\n",
      "Epoch [88/128] - Loss: 0.0000\n",
      "Epoch [89/128] - Loss: 0.0000\n",
      "Epoch [90/128] - Loss: 0.0000\n",
      "Epoch [91/128] - Loss: 0.0000\n",
      "Epoch [92/128] - Loss: 0.0000\n",
      "Epoch [93/128] - Loss: 0.0000\n",
      "Epoch [94/128] - Loss: 0.0000\n",
      "Epoch [95/128] - Loss: 0.0000\n",
      "Epoch [96/128] - Loss: 0.0000\n",
      "Epoch [97/128] - Loss: 0.0000\n",
      "Epoch [98/128] - Loss: 0.0000\n",
      "Epoch [99/128] - Loss: 0.0000\n",
      "Epoch [100/128] - Loss: 0.0000\n",
      "Epoch [101/128] - Loss: 0.0000\n",
      "Epoch [102/128] - Loss: 0.0000\n",
      "Epoch [103/128] - Loss: 0.0000\n",
      "Epoch [104/128] - Loss: 0.0000\n",
      "Epoch [105/128] - Loss: 0.0000\n",
      "Epoch [106/128] - Loss: 0.0000\n",
      "Epoch [107/128] - Loss: 0.0000\n",
      "Epoch [108/128] - Loss: 0.0000\n",
      "Epoch [109/128] - Loss: 0.0000\n",
      "Epoch [110/128] - Loss: 0.0000\n",
      "Epoch [111/128] - Loss: 0.0000\n",
      "Epoch [112/128] - Loss: 0.0000\n",
      "Epoch [113/128] - Loss: 0.0000\n",
      "Epoch [114/128] - Loss: 0.0000\n",
      "Epoch [115/128] - Loss: 0.0000\n",
      "Epoch [116/128] - Loss: 0.0000\n",
      "Epoch [117/128] - Loss: 0.0000\n",
      "Epoch [118/128] - Loss: 0.0000\n",
      "Epoch [119/128] - Loss: 0.0000\n",
      "Epoch [120/128] - Loss: 0.0000\n",
      "Epoch [121/128] - Loss: 0.0000\n",
      "Epoch [122/128] - Loss: 0.0000\n",
      "Epoch [123/128] - Loss: 0.0000\n",
      "Epoch [124/128] - Loss: 0.0000\n",
      "Epoch [125/128] - Loss: 0.0000\n",
      "Epoch [126/128] - Loss: 0.0000\n",
      "Epoch [127/128] - Loss: 0.0000\n",
      "Epoch [128/128] - Loss: 0.0000\n"
     ]
    }
   ],
   "source": [
    "num_epochs = 128\n",
    "loss_result = []\n",
    "\n",
    "for epoch in range(num_epochs):\n",
    "    model.train()\n",
    "    running_loss = 0.0\n",
    "\n",
    "    for anchor, positive, negative in loader:\n",
    "        anchor = anchor.to(device)\n",
    "        positive = positive.to(device)\n",
    "        negative = negative.to(device)\n",
    "\n",
    "        optimizer.zero_grad()\n",
    "        anchor_out, positive_out, negative_out = model(anchor, positive, negative)\n",
    "\n",
    "        loss = triplet_loss(anchor_out, positive_out, negative_out)\n",
    "        loss.backward()\n",
    "        optimizer.step()\n",
    "\n",
    "        running_loss += loss.item()\n",
    "\n",
    "    avg_loss = running_loss / len(loader)\n",
    "    loss_result.append(avg_loss)\n",
    "    print(f\"Epoch [{epoch+1}/{num_epochs}] - Loss: {avg_loss:.4f}\")"
   ],
   "metadata": {
    "collapsed": false,
    "ExecuteTime": {
     "end_time": "2025-07-20T21:36:44.629087100Z",
     "start_time": "2025-07-20T21:29:38.235592400Z"
    }
   }
  },
  {
   "cell_type": "markdown",
   "source": [
    "# Plot the result"
   ],
   "metadata": {
    "collapsed": false
   }
  },
  {
   "cell_type": "code",
   "execution_count": 46,
   "outputs": [
    {
     "data": {
      "text/plain": "<Figure size 1000x600 with 1 Axes>",
      "image/png": "[encoded data removed]"
     },
     "metadata": {},
     "output_type": "display_data"
    }
   ],
   "source": [
    "epochs = range(1, len(loss_result) + 1)\n",
    "\n",
    "plt.figure(figsize=(10, 6))\n",
    "\n",
    "plt.plot(epochs, loss_result, 'b', label='Training Loss')\n",
    "\n",
    "\n",
    "plt.title('Training Loss Over Epochs')\n",
    "plt.xlabel('Epochs')\n",
    "plt.ylabel('Loss')\n",
    "plt.legend()\n",
    "plt.grid(True)\n",
    "\n",
    "\n",
    "plt.show()\n",
    "\n",
    "plt.savefig('loss_curve.png')\n",
    "plt.close()"
   ],
   "metadata": {
    "collapsed": false,
    "ExecuteTime": {
     "end_time": "2025-07-20T21:36:44.788708600Z",
     "start_time": "2025-07-20T21:36:44.632080700Z"
    }
   }
  },
  {
   "cell_type": "markdown",
   "source": [
    "# Evaluation"
   ],
   "metadata": {
    "collapsed": false
   }
  },
  {
   "cell_type": "code",
   "execution_count": 54,
   "outputs": [
    {
     "name": "stdout",
     "output_type": "stream",
     "text": [
      "Distance: 14.1334\n",
      "Result: Negative (Different class)\n"
     ]
    }
   ],
   "source": [
    "def classify_by_distance(anchor_path, test_path, model, threshold=0.8, device=\"cuda\"):\n",
    "    model = model.to(device)\n",
    "\n",
    "    anchor_img = Image.open(anchor_path).convert(\"RGB\")\n",
    "    test_img = Image.open(test_path).convert(\"RGB\")\n",
    "\n",
    "    anchor_tensor = transform(anchor_img).unsqueeze(0).to(device)\n",
    "    test_tensor = transform(test_img).unsqueeze(0).to(device)\n",
    "\n",
    "    with torch.no_grad():\n",
    "        anchor_embed = model(anchor_tensor)\n",
    "        test_embed = model(test_tensor)\n",
    "        dist = F.pairwise_distance(anchor_embed, test_embed).item()\n",
    "\n",
    "    print(f\"Distance: {dist:.4f}\")\n",
    "    if dist < threshold:\n",
    "        return \"Positive (Same class)\"\n",
    "    else:\n",
    "        return \"Negative (Different class)\"\n",
    "\n",
    "result = classify_by_distance(\"triplet_data/anchor/4.jpg\", \"triplet_data/positive/22.jpg\", embedding_net, threshold=1.0)\n",
    "print(\"Result:\", result)"
   ],
   "metadata": {
    "collapsed": false,
    "ExecuteTime": {
     "end_time": "2025-07-20T21:42:06.300919300Z",
     "start_time": "2025-07-20T21:42:06.048094300Z"
    }
   }
  },
  {
   "cell_type": "markdown",
   "source": [
    "# Save the model"
   ],
   "metadata": {
    "collapsed": false
   }
  },
  {
   "cell_type": "code",
   "execution_count": 48,
   "outputs": [],
   "source": [
    "torch.save(embedding_net.state_dict(), \"embedding_net.pth\")"
   ],
   "metadata": {
    "collapsed": false,
    "ExecuteTime": {
     "end_time": "2025-07-20T21:36:44.889550800Z",
     "start_time": "2025-07-20T21:36:44.836861Z"
    }
   }
  }
 ],
 "metadata": {
  "kernelspec": {
   "display_name": "Python 3",
   "language": "python",
   "name": "python3"
  },
  "language_info": {
   "codemirror_mode": {
    "name": "ipython",
    "version": 2
   },
   "file_extension": ".py",
   "mimetype": "text/x-python",
   "name": "python",
   "nbconvert_exporter": "python",
   "pygments_lexer": "ipython2",
   "version": "2.7.6"
  }
 },
 "nbformat": 4,
 "nbformat_minor": 0
}
