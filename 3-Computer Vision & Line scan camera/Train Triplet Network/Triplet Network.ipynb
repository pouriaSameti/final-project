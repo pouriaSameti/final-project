{
 "cells": [
  {
   "cell_type": "markdown",
   "source": [
    "# Libraries"
   ],
   "metadata": {
    "collapsed": false
   }
  },
  {
   "cell_type": "code",
   "execution_count": 20,
   "metadata": {
    "collapsed": true,
    "ExecuteTime": {
     "end_time": "2025-07-07T01:05:26.499609100Z",
     "start_time": "2025-07-07T01:05:26.490963600Z"
    }
   },
   "outputs": [],
   "source": [
    "import pandas as pd\n",
    "import numpy as np\n",
    "import matplotlib.pyplot as plt\n",
    "import os\n",
    "\n",
    "import torch\n",
    "import torch.nn as nn\n",
    "import torch.nn.functional as F\n",
    "from torch.utils.data import Dataset, DataLoader\n",
    "\n",
    "from PIL import Image\n",
    "import torchvision.transforms as T"
   ]
  },
  {
   "cell_type": "markdown",
   "source": [
    "# Network Architecture"
   ],
   "metadata": {
    "collapsed": false
   }
  },
  {
   "cell_type": "code",
   "execution_count": 21,
   "outputs": [],
   "source": [
    "class EmbeddingNet(nn.Module):\n",
    "    def __init__(self):\n",
    "        super(EmbeddingNet, self).__init__()\n",
    "        self.convnet = nn.Sequential(\n",
    "            nn.Conv2d(3, 32, kernel_size=5, stride=1, padding=2),\n",
    "            nn.ReLU(),\n",
    "            nn.MaxPool2d(2),  # 320x320\n",
    "\n",
    "            nn.Conv2d(32, 64, kernel_size=5, stride=1, padding=2),\n",
    "            nn.ReLU(),\n",
    "            nn.MaxPool2d(2),  # 160x160\n",
    "\n",
    "            nn.Conv2d(64, 128, kernel_size=3, stride=1, padding=1),\n",
    "            nn.ReLU(),\n",
    "            nn.MaxPool2d(2),  # 80x80\n",
    "\n",
    "            nn.Conv2d(128, 256, kernel_size=3, stride=1, padding=1),\n",
    "            nn.ReLU(),\n",
    "            nn.MaxPool2d(2),  # 40x40\n",
    "\n",
    "            nn.Conv2d(256, 512, kernel_size=3, stride=1, padding=1),\n",
    "            nn.ReLU(),\n",
    "            nn.AdaptiveAvgPool2d((1, 1))\n",
    "        )\n",
    "        self.fc = nn.Linear(512, 128)\n",
    "\n",
    "    def forward(self, x):\n",
    "        x = self.convnet(x)\n",
    "        x = x.view(x.size(0), -1)\n",
    "        x = self.fc(x)  # batch_size, 128)\n",
    "        return x"
   ],
   "metadata": {
    "collapsed": false,
    "ExecuteTime": {
     "end_time": "2025-07-07T01:05:27.028969200Z",
     "start_time": "2025-07-07T01:05:27.025511500Z"
    }
   }
  },
  {
   "cell_type": "code",
   "execution_count": 22,
   "outputs": [],
   "source": [
    "class TripletNet(nn.Module):\n",
    "    def __init__(self, embedding_net):\n",
    "        super(TripletNet, self).__init__()\n",
    "        self.embedding_net = embedding_net\n",
    "\n",
    "    def forward(self, anchor, positive, negative):\n",
    "        anchor_out = self.embedding_net(anchor)\n",
    "        positive_out = self.embedding_net(positive)\n",
    "        negative_out = self.embedding_net(negative)\n",
    "        return anchor_out, positive_out, negative_out"
   ],
   "metadata": {
    "collapsed": false,
    "ExecuteTime": {
     "end_time": "2025-07-07T01:05:27.380009Z",
     "start_time": "2025-07-07T01:05:27.374110100Z"
    }
   }
  },
  {
   "cell_type": "code",
   "execution_count": 23,
   "outputs": [],
   "source": [
    "class TripletLoss(nn.Module):\n",
    "    def __init__(self, margin=1.0):\n",
    "        super(TripletLoss, self).__init__()\n",
    "        self.margin = margin\n",
    "\n",
    "    def forward(self, anchor, positive, negative):\n",
    "        d_positive = F.pairwise_distance(anchor, positive, p=2)\n",
    "        d_negative = F.pairwise_distance(anchor, negative, p=2)\n",
    "        loss = F.relu(d_positive - d_negative + self.margin)\n",
    "        return loss.mean()"
   ],
   "metadata": {
    "collapsed": false,
    "ExecuteTime": {
     "end_time": "2025-07-07T01:05:27.710285500Z",
     "start_time": "2025-07-07T01:05:27.708778900Z"
    }
   }
  },
  {
   "cell_type": "markdown",
   "source": [
    "# Dataset Design"
   ],
   "metadata": {
    "collapsed": false
   }
  },
  {
   "cell_type": "code",
   "execution_count": 24,
   "outputs": [],
   "source": [
    "class ImageTripletDataset(Dataset):\n",
    "    def __init__(self, root_dir, transform=None):\n",
    "        self.anchor_dir = os.path.join(root_dir, \"anchor\")\n",
    "        self.positive_dir = os.path.join(root_dir, \"positive\")\n",
    "        self.negative_dir = os.path.join(root_dir, \"negative\")\n",
    "\n",
    "        self.filenames = sorted(os.listdir(self.anchor_dir))\n",
    "        self.transform = transform\n",
    "\n",
    "    def __len__(self):\n",
    "        return len(self.filenames)\n",
    "\n",
    "    def __getitem__(self, idx):\n",
    "        anchor_path = os.path.join(self.anchor_dir, self.filenames[idx])\n",
    "        positive_path = os.path.join(self.positive_dir, self.filenames[idx])\n",
    "        negative_path = os.path.join(self.negative_dir, self.filenames[idx])\n",
    "\n",
    "        anchor = Image.open(anchor_path).convert(\"RGB\")\n",
    "        positive = Image.open(positive_path).convert(\"RGB\")\n",
    "        negative = Image.open(negative_path).convert(\"RGB\")\n",
    "\n",
    "        if self.transform:\n",
    "            anchor = self.transform(anchor)\n",
    "            positive = self.transform(positive)\n",
    "            negative = self.transform(negative)\n",
    "\n",
    "        return anchor, positive, negative"
   ],
   "metadata": {
    "collapsed": false,
    "ExecuteTime": {
     "end_time": "2025-07-07T01:05:28.429415200Z",
     "start_time": "2025-07-07T01:05:28.425400200Z"
    }
   }
  },
  {
   "cell_type": "code",
   "execution_count": 25,
   "outputs": [],
   "source": [
    "transform = T.Compose([\n",
    "    T.Resize((640, 640)),\n",
    "    T.ToTensor(),\n",
    "])\n",
    "\n",
    "dataset = ImageTripletDataset(root_dir=\"triplet_data\", transform=transform)\n",
    "loader = DataLoader(dataset, batch_size=2, shuffle=True)"
   ],
   "metadata": {
    "collapsed": false,
    "ExecuteTime": {
     "end_time": "2025-07-07T01:05:29.166666300Z",
     "start_time": "2025-07-07T01:05:29.164661400Z"
    }
   }
  },
  {
   "cell_type": "markdown",
   "source": [
    "# Training Loop"
   ],
   "metadata": {
    "collapsed": false
   }
  },
  {
   "cell_type": "code",
   "execution_count": 26,
   "outputs": [],
   "source": [
    "device = torch.device(\"cuda\" if torch.cuda.is_available() else \"cpu\")\n",
    "\n",
    "embedding_net = EmbeddingNet()\n",
    "model = TripletNet(embedding_net).to(device)\n",
    "\n",
    "triplet_loss = nn.TripletMarginLoss(margin=1.0, p=2)\n",
    "optimizer = torch.optim.Adam(model.parameters(), lr=1e-4)"
   ],
   "metadata": {
    "collapsed": false,
    "ExecuteTime": {
     "end_time": "2025-07-07T01:05:30.379361700Z",
     "start_time": "2025-07-07T01:05:30.356946800Z"
    }
   }
  },
  {
   "cell_type": "code",
   "execution_count": 27,
   "outputs": [
    {
     "name": "stdout",
     "output_type": "stream",
     "text": [
      "Summary for EmbeddingNet:\n",
      "----------------------------------------------------------------\n",
      "        Layer (type)               Output Shape         Param #\n",
      "================================================================\n",
      "            Conv2d-1         [-1, 32, 640, 640]           2,432\n",
      "              ReLU-2         [-1, 32, 640, 640]               0\n",
      "         MaxPool2d-3         [-1, 32, 320, 320]               0\n",
      "            Conv2d-4         [-1, 64, 320, 320]          51,264\n",
      "              ReLU-5         [-1, 64, 320, 320]               0\n",
      "         MaxPool2d-6         [-1, 64, 160, 160]               0\n",
      "            Conv2d-7        [-1, 128, 160, 160]          73,856\n",
      "              ReLU-8        [-1, 128, 160, 160]               0\n",
      "         MaxPool2d-9          [-1, 128, 80, 80]               0\n",
      "           Conv2d-10          [-1, 256, 80, 80]         295,168\n",
      "             ReLU-11          [-1, 256, 80, 80]               0\n",
      "        MaxPool2d-12          [-1, 256, 40, 40]               0\n",
      "           Conv2d-13          [-1, 512, 40, 40]       1,180,160\n",
      "             ReLU-14          [-1, 512, 40, 40]               0\n",
      "AdaptiveAvgPool2d-15            [-1, 512, 1, 1]               0\n",
      "           Linear-16                  [-1, 128]          65,664\n",
      "================================================================\n",
      "Total params: 1,668,544\n",
      "Trainable params: 1,668,544\n",
      "Non-trainable params: 0\n",
      "----------------------------------------------------------------\n",
      "Input size (MB): 4.69\n",
      "Forward/backward pass size (MB): 434.38\n",
      "Params size (MB): 6.36\n",
      "Estimated Total Size (MB): 445.43\n",
      "----------------------------------------------------------------\n"
     ]
    }
   ],
   "source": [
    "from torchsummary import summary\n",
    "\n",
    "print(\"Summary for EmbeddingNet:\")\n",
    "embedding_net_instance = EmbeddingNet().to(device)\n",
    "summary(embedding_net_instance, (3, 640, 640), device=str(device))"
   ],
   "metadata": {
    "collapsed": false,
    "ExecuteTime": {
     "end_time": "2025-07-07T01:05:31.364672Z",
     "start_time": "2025-07-07T01:05:31.327479200Z"
    }
   }
  },
  {
   "cell_type": "code",
   "execution_count": 28,
   "outputs": [
    {
     "name": "stdout",
     "output_type": "stream",
     "text": [
      "Epoch [1/16] - Loss: 0.9857\n",
      "Epoch [2/16] - Loss: 0.9409\n",
      "Epoch [3/16] - Loss: 0.8656\n",
      "Epoch [4/16] - Loss: 0.7976\n",
      "Epoch [5/16] - Loss: 0.4983\n",
      "Epoch [6/16] - Loss: 0.5080\n",
      "Epoch [7/16] - Loss: 0.2065\n",
      "Epoch [8/16] - Loss: 0.1359\n",
      "Epoch [9/16] - Loss: 0.1721\n",
      "Epoch [10/16] - Loss: 0.0598\n",
      "Epoch [11/16] - Loss: 0.0013\n",
      "Epoch [12/16] - Loss: 0.0000\n",
      "Epoch [13/16] - Loss: 0.0000\n",
      "Epoch [14/16] - Loss: 0.0000\n",
      "Epoch [15/16] - Loss: 0.0000\n",
      "Epoch [16/16] - Loss: 0.0000\n"
     ]
    }
   ],
   "source": [
    "num_epochs = 16\n",
    "loss_result = []\n",
    "\n",
    "for epoch in range(num_epochs):\n",
    "    model.train()\n",
    "    running_loss = 0.0\n",
    "\n",
    "    for anchor, positive, negative in loader:\n",
    "        anchor = anchor.to(device)\n",
    "        positive = positive.to(device)\n",
    "        negative = negative.to(device)\n",
    "\n",
    "        optimizer.zero_grad()\n",
    "        anchor_out, positive_out, negative_out = model(anchor, positive, negative)\n",
    "\n",
    "        loss = triplet_loss(anchor_out, positive_out, negative_out)\n",
    "        loss.backward()\n",
    "        optimizer.step()\n",
    "\n",
    "        running_loss += loss.item()\n",
    "\n",
    "    avg_loss = running_loss / len(loader)\n",
    "    loss_result.append(avg_loss)\n",
    "    print(f\"Epoch [{epoch+1}/{num_epochs}] - Loss: {avg_loss:.4f}\")"
   ],
   "metadata": {
    "collapsed": false,
    "ExecuteTime": {
     "end_time": "2025-07-07T01:05:41.287573800Z",
     "start_time": "2025-07-07T01:05:33.000526100Z"
    }
   }
  },
  {
   "cell_type": "markdown",
   "source": [
    "# Plot the result"
   ],
   "metadata": {
    "collapsed": false
   }
  },
  {
   "cell_type": "code",
   "execution_count": 29,
   "outputs": [
    {
     "data": {
      "text/plain": "<Figure size 1000x600 with 1 Axes>",
      "image/png": "[encoded data removed]"
     },
     "metadata": {},
     "output_type": "display_data"
    }
   ],
   "source": [
    "epochs = range(1, len(loss_result) + 1)\n",
    "\n",
    "plt.figure(figsize=(10, 6))\n",
    "\n",
    "plt.plot(epochs, loss_result, 'b', label='Training Loss')\n",
    "\n",
    "\n",
    "plt.title('Training Loss Over Epochs')\n",
    "plt.xlabel('Epochs')\n",
    "plt.ylabel('Loss')\n",
    "plt.legend()\n",
    "plt.grid(True)\n",
    "\n",
    "\n",
    "plt.show()\n",
    "\n",
    "plt.savefig('loss_curve.png')\n",
    "plt.close()"
   ],
   "metadata": {
    "collapsed": false,
    "ExecuteTime": {
     "end_time": "2025-07-07T01:08:02.852276800Z",
     "start_time": "2025-07-07T01:08:02.655870100Z"
    }
   }
  },
  {
   "cell_type": "markdown",
   "source": [
    "# Evaluation"
   ],
   "metadata": {
    "collapsed": false
   }
  },
  {
   "cell_type": "code",
   "execution_count": 35,
   "outputs": [
    {
     "name": "stdout",
     "output_type": "stream",
     "text": [
      "Distance: 1.3038\n",
      "Result: Negative (Different class)\n"
     ]
    }
   ],
   "source": [
    "def classify_by_distance(anchor_path, test_path, model, threshold=0.8, device=\"cuda\"):\n",
    "    model = model.to(device)\n",
    "\n",
    "    anchor_img = Image.open(anchor_path).convert(\"RGB\")\n",
    "    test_img = Image.open(test_path).convert(\"RGB\")\n",
    "\n",
    "    anchor_tensor = transform(anchor_img).unsqueeze(0).to(device)\n",
    "    test_tensor = transform(test_img).unsqueeze(0).to(device)\n",
    "\n",
    "    with torch.no_grad():\n",
    "        anchor_embed = model(anchor_tensor)\n",
    "        test_embed = model(test_tensor)\n",
    "        dist = F.pairwise_distance(anchor_embed, test_embed).item()\n",
    "\n",
    "    print(f\"Distance: {dist:.4f}\")\n",
    "    if dist < threshold:\n",
    "        return \"Positive (Same class)\"\n",
    "    else:\n",
    "        return \"Negative (Different class)\"\n",
    "\n",
    "result = classify_by_distance(\"triplet_data/anchor/4.jpg\", \"triplet_data/positive/5.jpg\", embedding_net, threshold=1.0)\n",
    "print(\"Result:\", result)"
   ],
   "metadata": {
    "collapsed": false,
    "ExecuteTime": {
     "end_time": "2025-07-07T01:25:38.117331800Z",
     "start_time": "2025-07-07T01:25:37.871475600Z"
    }
   }
  },
  {
   "cell_type": "markdown",
   "source": [
    "# Save the model"
   ],
   "metadata": {
    "collapsed": false
   }
  },
  {
   "cell_type": "code",
   "execution_count": 69,
   "outputs": [],
   "source": [
    "torch.save(embedding_net.state_dict(), \"embedding_net.pth\")"
   ],
   "metadata": {
    "collapsed": false,
    "ExecuteTime": {
     "end_time": "2025-07-04T07:54:43.971440600Z",
     "start_time": "2025-07-04T07:54:43.954315800Z"
    }
   }
  }
 ],
 "metadata": {
  "kernelspec": {
   "display_name": "Python 3",
   "language": "python",
   "name": "python3"
  },
  "language_info": {
   "codemirror_mode": {
    "name": "ipython",
    "version": 2
   },
   "file_extension": ".py",
   "mimetype": "text/x-python",
   "name": "python",
   "nbconvert_exporter": "python",
   "pygments_lexer": "ipython2",
   "version": "2.7.6"
  }
 },
 "nbformat": 4,
 "nbformat_minor": 0
}
